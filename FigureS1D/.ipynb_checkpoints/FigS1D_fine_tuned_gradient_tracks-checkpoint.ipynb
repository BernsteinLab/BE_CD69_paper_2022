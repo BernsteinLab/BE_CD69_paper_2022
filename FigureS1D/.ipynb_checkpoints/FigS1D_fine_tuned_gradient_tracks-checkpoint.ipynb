{
 "cells": [
  {
   "cell_type": "code",
   "execution_count": 1,
   "id": "27e485ce",
   "metadata": {},
   "outputs": [],
   "source": [
    "suppressPackageStartupMessages({\n",
    "library(tidyverse)\n",
    "library(Gviz)\n",
    "library(rtracklayer)\n",
    "library(GenomicFeatures)\n",
    "library(data.table)\n",
    "    })"
   ]
  },
  {
   "cell_type": "code",
   "execution_count": 5,
   "id": "e18cc4d9",
   "metadata": {},
   "outputs": [
    {
     "data": {
      "text/html": [
       "<strong>png:</strong> 2"
      ],
      "text/latex": [
       "\\textbf{png:} 2"
      ],
      "text/markdown": [
       "**png:** 2"
      ],
      "text/plain": [
       "png \n",
       "  2 "
      ]
     },
     "metadata": {},
     "output_type": "display_data"
    }
   ],
   "source": [
    "gtrack <- GenomeAxisTrack()\n",
    "chr_no <-  \"chr12\"\n",
    "chr_start <- 9764300\n",
    "chr_end <- 9765900\n",
    "\n",
    "jurkat_resting <- fread(\"../data_and_analyses/Enformer_scores/CD69RE4_fine_tuned_FigS1D_3D/enformer_ft_scores_Jurkat_resting.bedGraph.all.bedGraph\",\n",
    "  col.names = c('chromosome', 'start', 'end', 'value')\n",
    ")\n",
    "\n",
    "jurkat_resting$value <- abs(jurkat_resting$value)\n",
    "\n",
    "bg_jurkat_resting <- DataTrack(\n",
    "  range = jurkat_resting,\n",
    "  type = \"a\",\n",
    "  genome = 'hg38',\n",
    "  chromosome=chr_no,\n",
    "    ylim = c(0,10),\n",
    "  start=chr_start, # start of region\n",
    "  end=chr_end, # end of region\n",
    "  name = \"Input*Gradient\",\n",
    "    fill.histogram = \"red\", \n",
    "    alpha=1\n",
    ")\n",
    "\n",
    "jurkat_activated <- fread(\n",
    "  \"../data_and_analyses//Enformer_scores//CD69RE4_fine_tuned_FigS1D_3D//enformer_ft_scores_Jurkat_activated.bedGraph.all.bedGraph\",\n",
    "  col.names = c('chromosome', 'start', 'end', 'value')\n",
    ")\n",
    "\n",
    "bg_jurkat_activated <- DataTrack(\n",
    "  range = jurkat_activated,\n",
    "  type = \"a\",\n",
    "  genome = 'hg38',\n",
    "  chromosome=chr_no,\n",
    "    ylim = c(0,10),\n",
    "  start=chr_start, # start of region\n",
    "  end=chr_end, # end of region\n",
    "  name = \"Input*Gradient\",\n",
    "    fill.histogram = \"red\", \n",
    "    alpha=1\n",
    ")\n",
    "\n",
    "\n",
    "cd4_resting <- fread(\n",
    "  \"../data_and_analyses/Enformer_scores/CD69RE4_fine_tuned_FigS1D_3D/enformer_ft_scores_CD4_resting.bedGraph.all.bedGraph\",\n",
    "  col.names = c('chromosome', 'start', 'end', 'value')\n",
    ")\n",
    "\n",
    "cd4_resting$value <- abs(cd4_resting$value)\n",
    "\n",
    "bg_cd4_resting <- DataTrack(\n",
    "  range = cd4_resting,\n",
    "  type = \"a\",\n",
    "  genome = 'hg38',\n",
    "  chromosome=chr_no,\n",
    "    ylim = c(0,10),\n",
    "  start=chr_start, # start of region\n",
    "  end=chr_end, # end of region\n",
    "  name = \"Input*Gradient\",\n",
    "    fill.histogram = \"red\", \n",
    "    alpha=1\n",
    ")\n",
    "\n",
    "cd4_activated <- fread(\n",
    "  \"../data_and_analyses/Enformer_scores/CD69RE4_fine_tuned_FigS1D_3D/enformer_ft_scores_CD4_activated.bedGraph.all.bedGraph\",\n",
    "  col.names = c('chromosome', 'start', 'end', 'value')\n",
    ")\n",
    "\n",
    "cd4_activated$value <- abs(cd4_activated$value) ## take abs value\n",
    "\n",
    "bg_cd4_activated <- DataTrack(\n",
    "  range = cd4_activated,\n",
    "  type = \"a\",\n",
    "  genome = 'hg38',\n",
    "  chromosome=chr_no,\n",
    "  ylim = c(0,10),\n",
    "  start=chr_start, # start of region\n",
    "  end=chr_end, # end of region\n",
    "  name = \"Input*Gradient\",\n",
    "    fill.histogram = \"red\", \n",
    "    alpha=1\n",
    ")\n",
    "\n",
    "\n",
    "\n",
    "pdf(\"FT_tracks_locus_plot_zoomed.pdf\")\n",
    "plotTracks(list(gtrack,\n",
    "                #gtTrack,\n",
    "                bg_jurkat_resting,\n",
    "                bg_jurkat_activated,\n",
    "                bg_cd4_resting,\n",
    "                bg_cd4_activated), shape = \"arrow\", \n",
    "           transcriptAnnotation = \"symbol\", chromosome = \"chr12\",from = 9764300, to= 9765900,\n",
    "           type = c(\"h\",\"coverage\"),scale=0.5\n",
    "           )\n",
    "dev.off()"
   ]
  },
  {
   "cell_type": "code",
   "execution_count": null,
   "id": "dc12b3de",
   "metadata": {},
   "outputs": [],
   "source": []
  }
 ],
 "metadata": {
  "environment": {
   "name": "r-cpu.4-0.m76",
   "type": "gcloud",
   "uri": "gcr.io/deeplearning-platform-release/r-cpu.4-0:m76"
  },
  "kernelspec": {
   "display_name": "R",
   "language": "R",
   "name": "ir"
  },
  "language_info": {
   "codemirror_mode": "r",
   "file_extension": ".r",
   "mimetype": "text/x-r-source",
   "name": "R",
   "pygments_lexer": "r",
   "version": "4.1.1"
  }
 },
 "nbformat": 4,
 "nbformat_minor": 5
}
