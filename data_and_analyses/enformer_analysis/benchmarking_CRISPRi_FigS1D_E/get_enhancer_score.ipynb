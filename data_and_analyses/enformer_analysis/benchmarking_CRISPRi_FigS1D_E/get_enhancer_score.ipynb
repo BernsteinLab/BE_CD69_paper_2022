{
 "cells": [
  {
   "cell_type": "code",
   "execution_count": 1,
   "id": "d6bf7c49-ba14-4e6d-9e2f-49872215931b",
   "metadata": {},
   "outputs": [
    {
     "name": "stderr",
     "output_type": "stream",
     "text": [
      "\n",
      "Attaching package: ‘dplyr’\n",
      "\n",
      "\n",
      "The following objects are masked from ‘package:stats’:\n",
      "\n",
      "    filter, lag\n",
      "\n",
      "\n",
      "The following objects are masked from ‘package:base’:\n",
      "\n",
      "    intersect, setdiff, setequal, union\n",
      "\n",
      "\n",
      "\n",
      "Attaching package: ‘data.table’\n",
      "\n",
      "\n",
      "The following objects are masked from ‘package:dplyr’:\n",
      "\n",
      "    between, first, last\n",
      "\n",
      "\n"
     ]
    }
   ],
   "source": [
    "library(dplyr)\n",
    "library(ggplot2)\n",
    "library(data.table)"
   ]
  },
  {
   "cell_type": "code",
   "execution_count": 2,
   "id": "043c267b-a461-491c-aff8-6e614544b1d8",
   "metadata": {},
   "outputs": [
    {
     "name": "stderr",
     "output_type": "stream",
     "text": [
      "\u001b[1m\u001b[22m`summarise()` has grouped output by 'region'. You can override using the\n",
      "`.groups` argument.\n"
     ]
    }
   ],
   "source": [
    "## load in experimental_results, group by the perturbed region + time\n",
    "exp <- fread('CRISPRi_experimental_results.txt',header=TRUE)\n",
    "exp_g <- exp %>% group_by(region,time) %>% summarise(percent_CD69_m = mean(percent_CD69))"
   ]
  },
  {
   "cell_type": "code",
   "execution_count": 3,
   "id": "78384613-d06c-4428-97cb-3d98e6bae67c",
   "metadata": {},
   "outputs": [
    {
     "ename": "ERROR",
     "evalue": "Error in fread(\"CD69.all.bedGraph.all.ATAC.overlap\", header = FALSE): could not find function \"fread\"\n",
     "output_type": "error",
     "traceback": [
      "Error in fread(\"CD69.all.bedGraph.all.ATAC.overlap\", header = FALSE): could not find function \"fread\"\nTraceback:\n"
     ]
    }
   ],
   "source": [
    "### get enhancer score from Enformer\n",
    "\n",
    "\n",
    "# first intersect the pooled CD69 gradients (CD69.all.bedGraph.all.bedGraph) with the perturbed regions using something like:\n",
    "# bedtools intersect -a CD69.all.bedGraph.all.bedGraph -b perturbed_regions.centered.2kbwindow.bed -wa > CD69.all.bedGraph.all.ATAC.overlap\n",
    "\n",
    "### then process remaining results as follows\n",
    "overlaps <- fread('CD69.all.bedGraph.all.ATAC.overlap',header=FALSE)\n",
    "colnames(overlaps) <- c(\"chrom\",\"start\",\"stop\",\"gradient\",\"e_chrom\",\"e_start\",\"e_stop\")\n",
    "overlaps$gradient <- abs(overlaps$gradient)\n",
    "overlaps_g <- overlaps %>% group_by(e_chrom,e_start,e_stop) %>% summarise(sum = sum(gradient))\n",
    "\n",
    "overlaps_g$region <- \"ctrl\"\n",
    "overlaps_g <- overlaps_g %>% mutate(region = replace(region, e_start == 9759943, \"prom\"),\n",
    "                                    region = replace(region, e_start == 9764100, \"4\"),\n",
    "                                    region = replace(region, e_start == 9740858, \"1\"),\n",
    "                                    region = replace(region, e_start == 9772761, \"5\"),\n",
    "                                    region = replace(region, e_start == 9750515, \"2\"),\n",
    "                                    region = replace(region, e_start == 9757757, \"intron\"),\n",
    "                                    region= replace(region, e_start == 9762300, \"3\"))"
   ]
  },
  {
   "cell_type": "code",
   "execution_count": 69,
   "id": "a6b49890-ced6-4c75-83cf-61b368be3e1d",
   "metadata": {},
   "outputs": [],
   "source": [
    "merge <- merge(overlaps_g, exp_g,by.x = c(\"region\"),by.y = c(\"region\"))"
   ]
  },
  {
   "cell_type": "code",
   "execution_count": 49,
   "id": "c31e7660-7354-4c3c-8076-6da10b58e1bd",
   "metadata": {},
   "outputs": [
    {
     "data": {
      "image/png": "[encoded data removed]",
      "text/plain": [
       "plot without title"
      ]
     },
     "metadata": {
      "image/png": {
       "height": 420,
       "width": 420
      }
     },
     "output_type": "display_data"
    }
   ],
   "source": [
    "library(ggprism)\n",
    "library(ggrepel)\n",
    "ggplot(merge, aes(x=sum, y=percent_CD69_m,label=region)) + geom_point() + theme_prism() + facet_wrap(~time) + geom_text_repel()"
   ]
  },
  {
   "cell_type": "code",
   "execution_count": 71,
   "id": "699679c8-437e-45fa-92a3-730d16bba7b7",
   "metadata": {},
   "outputs": [],
   "source": [
    "colnames(merge) <- c(\"region\", \"region_chrom\",\"region_start\",\"region_end\",\"gradient_sum\",\"time\", \"percent_CD69_mean\")\n",
    "write.table(merge,\n",
    "            'CRISPRi_enformer_vs_experiment_mean.tsv',\n",
    "            sep='\\t',\n",
    "            col.names=TRUE,\n",
    "            row.names=FALSE,\n",
    "            quote=FALSE)"
   ]
  },
  {
   "cell_type": "code",
   "execution_count": 70,
   "id": "6f41d9a9-38ea-49dc-9085-6a0a204beb92",
   "metadata": {},
   "outputs": [
    {
     "data": {
      "text/html": [
       "<table class=\"dataframe\">\n",
       "<caption>A data.frame: 14 × 7</caption>\n",
       "<thead>\n",
       "\t<tr><th scope=col>region</th><th scope=col>e_chrom</th><th scope=col>e_start</th><th scope=col>e_stop</th><th scope=col>sum</th><th scope=col>time</th><th scope=col>percent_CD69_m</th></tr>\n",
       "\t<tr><th scope=col>&lt;chr&gt;</th><th scope=col>&lt;chr&gt;</th><th scope=col>&lt;int&gt;</th><th scope=col>&lt;int&gt;</th><th scope=col>&lt;dbl&gt;</th><th scope=col>&lt;dbl&gt;</th><th scope=col>&lt;dbl&gt;</th></tr>\n",
       "</thead>\n",
       "<tbody>\n",
       "\t<tr><td>1     </td><td>chr12</td><td>9740858</td><td>9742858</td><td> 30.75388</td><td>2.5</td><td>70.700000</td></tr>\n",
       "\t<tr><td>1     </td><td>chr12</td><td>9740858</td><td>9742858</td><td> 30.75388</td><td>5.0</td><td>87.833333</td></tr>\n",
       "\t<tr><td>2     </td><td>chr12</td><td>9750515</td><td>9752515</td><td> 91.37154</td><td>2.5</td><td>56.250000</td></tr>\n",
       "\t<tr><td>2     </td><td>chr12</td><td>9750515</td><td>9752515</td><td> 91.37154</td><td>5.0</td><td>80.016667</td></tr>\n",
       "\t<tr><td>3     </td><td>chr12</td><td>9762300</td><td>9764300</td><td>186.89399</td><td>2.5</td><td>22.133333</td></tr>\n",
       "\t<tr><td>3     </td><td>chr12</td><td>9762300</td><td>9764300</td><td>186.89399</td><td>5.0</td><td>36.166667</td></tr>\n",
       "\t<tr><td>4     </td><td>chr12</td><td>9764100</td><td>9766100</td><td>305.36535</td><td>2.5</td><td>10.310000</td></tr>\n",
       "\t<tr><td>4     </td><td>chr12</td><td>9764100</td><td>9766100</td><td>305.36535</td><td>5.0</td><td>17.660000</td></tr>\n",
       "\t<tr><td>5     </td><td>chr12</td><td>9772761</td><td>9774761</td><td> 26.08098</td><td>2.5</td><td>69.466667</td></tr>\n",
       "\t<tr><td>5     </td><td>chr12</td><td>9772761</td><td>9774761</td><td> 26.08098</td><td>5.0</td><td>87.483333</td></tr>\n",
       "\t<tr><td>intron</td><td>chr12</td><td>9757757</td><td>9759757</td><td>209.32826</td><td>2.5</td><td>21.631667</td></tr>\n",
       "\t<tr><td>intron</td><td>chr12</td><td>9757757</td><td>9759757</td><td>209.32826</td><td>5.0</td><td>28.366667</td></tr>\n",
       "\t<tr><td>prom  </td><td>chr12</td><td>9759943</td><td>9761943</td><td>555.41457</td><td>2.5</td><td> 6.336667</td></tr>\n",
       "\t<tr><td>prom  </td><td>chr12</td><td>9759943</td><td>9761943</td><td>555.41457</td><td>5.0</td><td> 9.843333</td></tr>\n",
       "</tbody>\n",
       "</table>\n"
      ],
      "text/latex": [
       "A data.frame: 14 × 7\n",
       "\\begin{tabular}{lllllll}\n",
       " region & e\\_chrom & e\\_start & e\\_stop & sum & time & percent\\_CD69\\_m\\\\\n",
       " <chr> & <chr> & <int> & <int> & <dbl> & <dbl> & <dbl>\\\\\n",
       "\\hline\n",
       "\t 1      & chr12 & 9740858 & 9742858 &  30.75388 & 2.5 & 70.700000\\\\\n",
       "\t 1      & chr12 & 9740858 & 9742858 &  30.75388 & 5.0 & 87.833333\\\\\n",
       "\t 2      & chr12 & 9750515 & 9752515 &  91.37154 & 2.5 & 56.250000\\\\\n",
       "\t 2      & chr12 & 9750515 & 9752515 &  91.37154 & 5.0 & 80.016667\\\\\n",
       "\t 3      & chr12 & 9762300 & 9764300 & 186.89399 & 2.5 & 22.133333\\\\\n",
       "\t 3      & chr12 & 9762300 & 9764300 & 186.89399 & 5.0 & 36.166667\\\\\n",
       "\t 4      & chr12 & 9764100 & 9766100 & 305.36535 & 2.5 & 10.310000\\\\\n",
       "\t 4      & chr12 & 9764100 & 9766100 & 305.36535 & 5.0 & 17.660000\\\\\n",
       "\t 5      & chr12 & 9772761 & 9774761 &  26.08098 & 2.5 & 69.466667\\\\\n",
       "\t 5      & chr12 & 9772761 & 9774761 &  26.08098 & 5.0 & 87.483333\\\\\n",
       "\t intron & chr12 & 9757757 & 9759757 & 209.32826 & 2.5 & 21.631667\\\\\n",
       "\t intron & chr12 & 9757757 & 9759757 & 209.32826 & 5.0 & 28.366667\\\\\n",
       "\t prom   & chr12 & 9759943 & 9761943 & 555.41457 & 2.5 &  6.336667\\\\\n",
       "\t prom   & chr12 & 9759943 & 9761943 & 555.41457 & 5.0 &  9.843333\\\\\n",
       "\\end{tabular}\n"
      ],
      "text/markdown": [
       "\n",
       "A data.frame: 14 × 7\n",
       "\n",
       "| region &lt;chr&gt; | e_chrom &lt;chr&gt; | e_start &lt;int&gt; | e_stop &lt;int&gt; | sum &lt;dbl&gt; | time &lt;dbl&gt; | percent_CD69_m &lt;dbl&gt; |\n",
       "|---|---|---|---|---|---|---|\n",
       "| 1      | chr12 | 9740858 | 9742858 |  30.75388 | 2.5 | 70.700000 |\n",
       "| 1      | chr12 | 9740858 | 9742858 |  30.75388 | 5.0 | 87.833333 |\n",
       "| 2      | chr12 | 9750515 | 9752515 |  91.37154 | 2.5 | 56.250000 |\n",
       "| 2      | chr12 | 9750515 | 9752515 |  91.37154 | 5.0 | 80.016667 |\n",
       "| 3      | chr12 | 9762300 | 9764300 | 186.89399 | 2.5 | 22.133333 |\n",
       "| 3      | chr12 | 9762300 | 9764300 | 186.89399 | 5.0 | 36.166667 |\n",
       "| 4      | chr12 | 9764100 | 9766100 | 305.36535 | 2.5 | 10.310000 |\n",
       "| 4      | chr12 | 9764100 | 9766100 | 305.36535 | 5.0 | 17.660000 |\n",
       "| 5      | chr12 | 9772761 | 9774761 |  26.08098 | 2.5 | 69.466667 |\n",
       "| 5      | chr12 | 9772761 | 9774761 |  26.08098 | 5.0 | 87.483333 |\n",
       "| intron | chr12 | 9757757 | 9759757 | 209.32826 | 2.5 | 21.631667 |\n",
       "| intron | chr12 | 9757757 | 9759757 | 209.32826 | 5.0 | 28.366667 |\n",
       "| prom   | chr12 | 9759943 | 9761943 | 555.41457 | 2.5 |  6.336667 |\n",
       "| prom   | chr12 | 9759943 | 9761943 | 555.41457 | 5.0 |  9.843333 |\n",
       "\n"
      ],
      "text/plain": [
       "   region e_chrom e_start e_stop  sum       time percent_CD69_m\n",
       "1  1      chr12   9740858 9742858  30.75388 2.5  70.700000     \n",
       "2  1      chr12   9740858 9742858  30.75388 5.0  87.833333     \n",
       "3  2      chr12   9750515 9752515  91.37154 2.5  56.250000     \n",
       "4  2      chr12   9750515 9752515  91.37154 5.0  80.016667     \n",
       "5  3      chr12   9762300 9764300 186.89399 2.5  22.133333     \n",
       "6  3      chr12   9762300 9764300 186.89399 5.0  36.166667     \n",
       "7  4      chr12   9764100 9766100 305.36535 2.5  10.310000     \n",
       "8  4      chr12   9764100 9766100 305.36535 5.0  17.660000     \n",
       "9  5      chr12   9772761 9774761  26.08098 2.5  69.466667     \n",
       "10 5      chr12   9772761 9774761  26.08098 5.0  87.483333     \n",
       "11 intron chr12   9757757 9759757 209.32826 2.5  21.631667     \n",
       "12 intron chr12   9757757 9759757 209.32826 5.0  28.366667     \n",
       "13 prom   chr12   9759943 9761943 555.41457 2.5   6.336667     \n",
       "14 prom   chr12   9759943 9761943 555.41457 5.0   9.843333     "
      ]
     },
     "metadata": {},
     "output_type": "display_data"
    }
   ],
   "source": [
    "merge"
   ]
  },
  {
   "cell_type": "code",
   "execution_count": 3,
   "id": "670a2ae6-11c6-4516-9555-40df4aba2acb",
   "metadata": {},
   "outputs": [
    {
     "data": {
      "text/html": [
       "2357"
      ],
      "text/latex": [
       "2357"
      ],
      "text/markdown": [
       "2357"
      ],
      "text/plain": [
       "[1] 2357"
      ]
     },
     "metadata": {},
     "output_type": "display_data"
    }
   ],
   "source": [
    "9763300 - (9759943 + 1000)"
   ]
  },
  {
   "cell_type": "code",
   "execution_count": 2,
   "id": "b7ac9594-1d1b-4ddb-af28-4f0bfc5ab654",
   "metadata": {},
   "outputs": [],
   "source": [
    "system(\"ls -F\")"
   ]
  },
  {
   "cell_type": "code",
   "execution_count": null,
   "id": "d4d0622b-9d98-4c10-9b6a-f3d7061c3fe3",
   "metadata": {},
   "outputs": [],
   "source": []
  }
 ],
 "metadata": {
  "environment": {
   "kernel": "ir",
   "name": "r-cpu.4-2.m102",
   "type": "gcloud",
   "uri": "gcr.io/deeplearning-platform-release/r-cpu.4-2:m102"
  },
  "kernelspec": {
   "display_name": "R",
   "language": "R",
   "name": "ir"
  },
  "language_info": {
   "codemirror_mode": "r",
   "file_extension": ".r",
   "mimetype": "text/x-r-source",
   "name": "R",
   "pygments_lexer": "r",
   "version": "4.2.2"
  }
 },
 "nbformat": 4,
 "nbformat_minor": 5
}
