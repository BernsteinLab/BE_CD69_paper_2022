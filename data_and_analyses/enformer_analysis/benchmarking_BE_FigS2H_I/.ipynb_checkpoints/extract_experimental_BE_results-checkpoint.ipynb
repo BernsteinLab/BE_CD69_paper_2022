{
 "cells": [
  {
   "cell_type": "code",
   "execution_count": 1,
   "id": "30d3fc1b-2c5b-481c-bfed-0a11ff133264",
   "metadata": {},
   "outputs": [],
   "source": [
    "import pandas as pd\n",
    "import numpy as np\n",
    "import os\n",
    "import subprocess"
   ]
  },
  {
   "cell_type": "code",
   "execution_count": 3,
   "id": "148ccf1b-5152-4fe1-a41f-4b3ecfae65cf",
   "metadata": {},
   "outputs": [],
   "source": [
    "### read in the CBE results\n",
    "\n",
    "be_results = open('CD69_CBE_data.tsv','r')\n",
    "be_results_lines = be_results.readlines()\n",
    "\n",
    "\n",
    "### can get extracted sequences using bedtools getfasta -fi on CD69_guides.BE.bed\n",
    "be_region_sequences = open('CD69_guides.BE.EXTRACTED_SEQUENCES.bed','r')\n",
    "be_region_seq_lines = be_region_sequences.readlines()\n",
    "be_region_sequences.close()\n",
    "\n",
    "def rev_comp(seq):\n",
    "    newstr = ''\n",
    "    \n",
    "    for base in seq[::-1]:\n",
    "        if base == 'A':\n",
    "            newstr += 'T'\n",
    "        if base == 'T':\n",
    "            newstr += 'A'\n",
    "        if base == 'C':\n",
    "            newstr += 'G'\n",
    "        if base == 'G':\n",
    "            newstr += 'C'\n",
    "    return newstr\n",
    "\n",
    "\n",
    "## initialize the files to write out effects of each C->T, or G->A in 2-8 targeting window for each guide\n",
    "be_results_c_t = open('CD69_CBE_data_per_pos_C_T_2_8.tsv','w')\n",
    "be_results_g_a = open('CD69_CBE_data_per_pos_G_A_2_8.tsv','w')\n"
   ]
  },
  {
   "cell_type": "code",
   "execution_count": 4,
   "id": "ba41f76d-f6f8-4fbf-bd77-467278421766",
   "metadata": {},
   "outputs": [],
   "source": [
    "for k,line in enumerate(be_results_lines[1:]):\n",
    "\n",
    "    if k == 0:\n",
    "        be_results_c_t.write('\\t'.join(['position',\n",
    "                                        'OR',\n",
    "                                        'rep',\n",
    "                                        'guide',\n",
    "                                        'start',\n",
    "                                        '\\n']))\n",
    "        \n",
    "\n",
    "\n",
    "    guide,start,stop,label,r1,r2,r3 = line.rstrip('\\n').split('\\t')\n",
    "    \n",
    "    \n",
    "    guide_seq_extract = be_region_seq_lines[k].rstrip('\\n')\n",
    "    guide_seq = guide\n",
    "    \n",
    "    if guide_seq_extract not in guide:\n",
    "        guide_seq = rev_comp(guide)\n",
    "    \n",
    "    chrom,start = start.split(':')\n",
    "    start = int(start.replace(',',''))\n",
    "    stop = int(stop.replace(',',''))\n",
    "    \n",
    "    \n",
    "    ## here we need to limit to the 2-8 region of the guide\n",
    "    ## note we are making the C- > T edit on fwd strand, will do the reverse strand for G->A seperately\n",
    "    for idx in range(1,8):\n",
    "        curr_base = guide_seq[idx]\n",
    "        if curr_base == 'C':\n",
    "            pos = start + idx\n",
    "\n",
    "            for i,rep in enumerate([r1,r2,r3]):\n",
    "                newline = '\\t'.join([str(pos),\n",
    "                                     str(rep),\n",
    "                                     'r' + str(i + 1),\n",
    "                                     str(guide),\n",
    "                                     str(start),\n",
    "                                     '\\n'])\n",
    "                be_results_c_t.write(newline)\n",
    "        if curr_base == 'G':\n",
    "            pos = start + idx\n",
    "\n",
    "            for i,rep in enumerate([r1,r2,r3]):\n",
    "                newline = '\\t'.join([str(pos),\n",
    "                                     str(rep),\n",
    "                                     'r' + str(i + 1),\n",
    "                                     str(guide),\n",
    "                                     str(start),\n",
    "                                     '\\n'])\n",
    "                be_results_g_a.write(newline)\n",
    "    "
   ]
  },
  {
   "cell_type": "code",
   "execution_count": 4,
   "id": "85951fb8-709f-482c-9f0d-c60a3600dc05",
   "metadata": {},
   "outputs": [],
   "source": [
    "be_results.close()\n",
    "be_results_c_t.close()"
   ]
  },
  {
   "cell_type": "code",
   "execution_count": null,
   "id": "3e8f6159-c272-4c90-a4e7-b7bf2be0027f",
   "metadata": {},
   "outputs": [],
   "source": []
  }
 ],
 "metadata": {
  "environment": {
   "kernel": "python3",
   "name": "r-cpu.4-2.m102",
   "type": "gcloud",
   "uri": "gcr.io/deeplearning-platform-release/r-cpu.4-2:m102"
  },
  "kernelspec": {
   "display_name": "Python 3",
   "language": "python",
   "name": "python3"
  },
  "language_info": {
   "codemirror_mode": {
    "name": "ipython",
    "version": 3
   },
   "file_extension": ".py",
   "mimetype": "text/x-python",
   "name": "python",
   "nbconvert_exporter": "python",
   "pygments_lexer": "ipython3",
   "version": "3.7.12"
  }
 },
 "nbformat": 4,
 "nbformat_minor": 5
}
