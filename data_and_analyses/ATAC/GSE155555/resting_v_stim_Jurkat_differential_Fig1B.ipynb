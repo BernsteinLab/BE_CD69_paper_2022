{
 "cells": [
  {
   "cell_type": "code",
   "execution_count": 1,
   "id": "a3cb69f6",
   "metadata": {},
   "outputs": [],
   "source": [
    "# computing the differentially accessible regions for CD69 locus\n",
    "# corresponds to the \"ATAC differential peaks\" in Figure 1B\n",
    "\n",
    "# analyzed data was obtained from GSE155555\n",
    "# Genome-wide enhancer maps link disease variants to genes and cell types\n",
    "# Nasser et. al 2021\n",
    "\n",
    "# calculate differential peaks w/ csaw workflow\n",
    "# adapted from Jake Reske, MSU 2020, reskejak@msu.edu, https://github.com/reskejak\n",
    "\n",
    "# BAMs were aligned using the ENCODE atac seq pipeline\n",
    "# peaks were called using MACS2 within the same pipeline\n",
    "# tweaked version of the pipeline to output intermediate files\n",
    "# is located at encode_atac_copy.wdl\n",
    "\n",
    "suppressPackageStartupMessages({library(GenomicRanges)\n",
    "library(csaw)\n",
    "library(\"edgeR\")\n",
    "library(data.table)\n",
    "library(ggplot2)\n",
    "library(dplyr)})"
   ]
  },
  {
   "cell_type": "code",
   "execution_count": 2,
   "id": "79af1102",
   "metadata": {},
   "outputs": [],
   "source": [
    "# read in replicate narrowPeaks\n",
    "control1.peaks <- fread(\"peaks/SRR12368302_1.trim.merged.nodup.no_chrM_MT.tn5.pval0.01.300K.bfilt.narrowPeak.gz\", \n",
    "                           sep=\"\\t\",header=FALSE)[,1:3]\n",
    "control2.peaks <- fread(\"peaks/SRR12368304_1.trim.merged.nodup.no_chrM_MT.tn5.pval0.01.300K.bfilt.narrowPeak.gz\", \n",
    "                           sep=\"\\t\",header=FALSE)[,1:3]\n",
    "treat1.peaks <- fread(\"peaks/SRR12368310_1.trim.merged.nodup.no_chrM_MT.tn5.pval0.01.300K.bfilt.narrowPeak.gz\", \n",
    "                           sep=\"\\t\",header=FALSE)[,1:3]\n",
    "treat2.peaks <- fread(\"peaks/SRR12368312_1.trim.merged.nodup.no_chrM_MT.tn5.pval0.01.300K.bfilt.narrowPeak.gz\", \n",
    "                           sep=\"\\t\",header=FALSE)[,1:3]\n",
    "colnames(control1.peaks) <- c(\"chrom\", \"start\", \"end\")\n",
    "colnames(control2.peaks) <- c(\"chrom\", \"start\", \"end\")\n",
    "colnames(treat1.peaks) <- c(\"chrom\", \"start\", \"end\")\n",
    "colnames(treat2.peaks) <- c(\"chrom\", \"start\", \"end\")\n",
    "\n",
    "control1.peaks <- GRanges(control1.peaks)\n",
    "control2.peaks <- GRanges(control2.peaks)\n",
    "treat1.peaks <- GRanges(treat1.peaks)\n",
    "treat2.peaks <- GRanges(treat2.peaks)"
   ]
  },
  {
   "cell_type": "code",
   "execution_count": 3,
   "id": "bb1ad300",
   "metadata": {},
   "outputs": [],
   "source": [
    "# interesect b/w bio replicates, union across conditions\n",
    "treat.peaks <- GenomicRanges::intersect(treat1.peaks, treat2.peaks)\n",
    "control.peaks <- GenomicRanges::intersect(control1.peaks, control2.peaks)\n",
    "all.peaks <- GenomicRanges::union(treat.peaks, control.peaks)"
   ]
  },
  {
   "cell_type": "code",
   "execution_count": 4,
   "id": "b99864c6",
   "metadata": {},
   "outputs": [],
   "source": [
    "if (!(dir.exists(\"bams\"))) {\n",
    "    ls()\n",
    "    stop(\"make sure you have bams directory containing alignment. files for SRR12368302,\n",
    "            SRR12368304, SRR12368310,SRR12368312\")\n",
    "}\n",
    "# specify paired-end BAMs\n",
    "pe.bams <- c(\"bams/SRR12368302_1.trim.merged.nodup.no_chrM_MT.bam\",\n",
    "             \"bams/SRR12368304_1.trim.merged.nodup.no_chrM_MT.bam\",\n",
    "             \"bams/SRR12368310_1.trim.merged.nodup.no_chrM_MT.bam\",\n",
    "             \"bams/SRR12368312_1.trim.merged.nodup.no_chrM_MT.bam\")"
   ]
  },
  {
   "cell_type": "code",
   "execution_count": 5,
   "id": "8e695376",
   "metadata": {},
   "outputs": [],
   "source": [
    "blacklist <- read.table(\"../../../reference_files/hg38_blacklist_ENCODE_ENCFF356LFX.bed\", sep=\"\\t\")\n",
    "colnames(blacklist) <- c(\"chrom\", \"start\", \"end\")\n",
    "blacklist <- GRanges(blacklist)"
   ]
  },
  {
   "cell_type": "code",
   "execution_count": 6,
   "id": "16be489a",
   "metadata": {},
   "outputs": [
    {
     "data": {
      "text/html": [
       "<table class=\"dataframe\">\n",
       "<caption>A matrix: 2 × 6 of type dbl</caption>\n",
       "<thead>\n",
       "\t<tr><th></th><th scope=col>used</th><th scope=col>(Mb)</th><th scope=col>gc trigger</th><th scope=col>(Mb)</th><th scope=col>max used</th><th scope=col>(Mb)</th></tr>\n",
       "</thead>\n",
       "<tbody>\n",
       "\t<tr><th scope=row>Ncells</th><td> 6409054</td><td>342.3</td><td>12170694</td><td>650.0</td><td>12170694</td><td>650.0</td></tr>\n",
       "\t<tr><th scope=row>Vcells</th><td>42127510</td><td>321.5</td><td>65030376</td><td>496.2</td><td>64859318</td><td>494.9</td></tr>\n",
       "</tbody>\n",
       "</table>\n"
      ],
      "text/latex": [
       "A matrix: 2 × 6 of type dbl\n",
       "\\begin{tabular}{r|llllll}\n",
       "  & used & (Mb) & gc trigger & (Mb) & max used & (Mb)\\\\\n",
       "\\hline\n",
       "\tNcells &  6409054 & 342.3 & 12170694 & 650.0 & 12170694 & 650.0\\\\\n",
       "\tVcells & 42127510 & 321.5 & 65030376 & 496.2 & 64859318 & 494.9\\\\\n",
       "\\end{tabular}\n"
      ],
      "text/markdown": [
       "\n",
       "A matrix: 2 × 6 of type dbl\n",
       "\n",
       "| <!--/--> | used | (Mb) | gc trigger | (Mb) | max used | (Mb) |\n",
       "|---|---|---|---|---|---|---|\n",
       "| Ncells |  6409054 | 342.3 | 12170694 | 650.0 | 12170694 | 650.0 |\n",
       "| Vcells | 42127510 | 321.5 | 65030376 | 496.2 | 64859318 | 494.9 |\n",
       "\n"
      ],
      "text/plain": [
       "       used     (Mb)  gc trigger (Mb)  max used (Mb) \n",
       "Ncells  6409054 342.3 12170694   650.0 12170694 650.0\n",
       "Vcells 42127510 321.5 65030376   496.2 64859318 494.9"
      ]
     },
     "metadata": {},
     "output_type": "display_data"
    },
    {
     "data": {
      "image/png": "[encoded data removed]",
      "text/plain": [
       "Plot with title “Histogram of treat1.pe.sizes$sizes”"
      ]
     },
     "metadata": {
      "image/png": {
       "height": 420,
       "width": 420
      }
     },
     "output_type": "display_data"
    }
   ],
   "source": [
    "# define read parameters\n",
    "standard.chr <- paste0(\"chr\", c(1:22)) # only use standard chromosomes\n",
    "param <- readParam(max.frag=1000, pe=\"both\", discard=blacklist, restrict=standard.chr)\n",
    "\n",
    "##############################\n",
    "# count reads in windows specified by MACS2                                      \n",
    "peak.counts <- regionCounts(pe.bams, all.peaks, param=param)\n",
    "\n",
    "##############################\n",
    "# MACS2 peaks only: filter low abundance peaks\n",
    "library(\"edgeR\")\n",
    "peak.abundances <- aveLogCPM(asDGEList(peak.counts)) \n",
    "peak.counts.filt <- peak.counts[peak.abundances > -3, ] # only use peaks logCPM > -3\n",
    "# few or no peaks should be removed; modify as desired\n",
    "\n",
    "##############################\n",
    "\n",
    "# get paired-end fragment size distribution\n",
    "control1.pe.sizes <- getPESizes(\"bams/SRR12368302_1.trim.merged.nodup.no_chrM_MT.bam\")\n",
    "control2.pe.sizes <- getPESizes(\"bams/SRR12368304_1.trim.merged.nodup.no_chrM_MT.bam\")\n",
    "treat1.pe.sizes <- getPESizes(\"bams/SRR12368310_1.trim.merged.nodup.no_chrM_MT.bam\")\n",
    "treat2.pe.sizes <- getPESizes(\"bams/SRR12368312_1.trim.merged.nodup.no_chrM_MT.bam\")\n",
    "gc()\n",
    "# plot\n",
    "hist(treat1.pe.sizes$sizes) # repeat for all replicates and conditions"
   ]
  },
  {
   "cell_type": "code",
   "execution_count": 7,
   "id": "ca656100",
   "metadata": {},
   "outputs": [],
   "source": [
    "##############################\n",
    "# count BAM reads in, e.g. 300 bp windows\n",
    "counts <- windowCounts(pe.bams, width=300, param=param) # set width as desired from the fragment length distribution analyses\n",
    "\n",
    "# filter uninteresting features (windows) by local enrichment\n",
    "# local background estimator: 2kb neighborhood\n",
    "neighbor <- suppressWarnings(resize(rowRanges(counts), width=2000, fix=\"center\")) # change width parameter as desired\n",
    "wider <- regionCounts(pe.bams, regions=neighbor, param=param) # count reads in neighborhoods\n",
    "# filter.stat <- filterWindows(counts, wider, type=\"local\") # the filterWindows() function is deprecated and has been replaced by filterWindowsLocal(). This is an archived step.\n",
    "filter.stat <- filterWindowsLocal(counts, wider)\n",
    "counts.local.filt <- counts[filter.stat$filter > log2(2),] # threshold of 2-fold increase in enrichment over 2kb neighborhood abundance; change as desired\n",
    "\n",
    "###############################\n",
    "# count BAM background bins (for TMM normalization)\n",
    "binned <- windowCounts(pe.bams, bin=TRUE, width=10000, param=param)\n"
   ]
  },
  {
   "cell_type": "code",
   "execution_count": 8,
   "id": "f68ead07",
   "metadata": {},
   "outputs": [],
   "source": [
    "peak.counts.tmm <- peak.counts.filt\n",
    "peak.counts.tmm <- normFactors(binned, se.out=peak.counts.tmm)\n",
    "working.windows <- peak.counts.tmm "
   ]
  },
  {
   "cell_type": "code",
   "execution_count": 9,
   "id": "0fac1d96",
   "metadata": {},
   "outputs": [],
   "source": [
    "y <- asDGEList(working.windows)\n",
    "colnames(y$counts) <- c(\"control1\", \"control2\", \"treat1\", \"treat2\")\n",
    "rownames(y$samples) <- c(\"control1\", \"control2\", \"treat1\", \"treat2\")\n",
    "y$samples$group <- c(\"control\", \"control\", \"treat\", \"treat\")\n",
    "design <- model.matrix(~0+group, data=y$samples)\n",
    "colnames(design) <- c(\"control\", \"treat\") # CONFIRM THAT THESE COLUMNS CORRECTLY ALIGN!!\n",
    "# design\n",
    "# IMPORTANT: the user should manually confirm that the design matrix is correctly labeled according to sample metadata!"
   ]
  },
  {
   "cell_type": "code",
   "execution_count": 11,
   "id": "a481d655",
   "metadata": {},
   "outputs": [
    {
     "data": {
      "text/plain": [
       "GRanges object with 118857 ranges and 9 metadata columns:\n",
       "         seqnames              ranges strand |     logFC    logCPM         F\n",
       "            <Rle>           <IRanges>  <Rle> | <numeric> <numeric> <numeric>\n",
       "   60384     chr5 138469317-138470608      * |   6.25531   5.37099   735.393\n",
       "   15829     chr1 227934674-227935432      * |   4.83779   4.32179   432.132\n",
       "  115696    chr11   86743268-86744037      * |   5.48869   3.76163   373.782\n",
       "  112138    chr11   43830868-43831314      * |   7.00383   3.46957   364.337\n",
       "  111904    chr11   36149504-36150219      * |   4.84193   3.74910   341.091\n",
       "     ...      ...                 ...    ... .       ...       ...       ...\n",
       "  186708     chrY   24605533-24605729      * |         0   -2.6543         0\n",
       "  186709     chrY   24610009-24610308      * |         0   -2.6543         0\n",
       "  186710     chrY   25054458-25054557      * |         0   -2.6543         0\n",
       "  186711     chrY   25059796-25060095      * |         0   -2.6543         0\n",
       "  186712     chrY   25064359-25064596      * |         0   -2.6543         0\n",
       "         num.tests num.up.logFC num.down.logFC       PValue          FDR\n",
       "         <integer>    <integer>      <integer>    <numeric>    <numeric>\n",
       "   60384         1            1              0 8.64829e-162 1.02791e-156\n",
       "   15829         1            1              0  6.32809e-96  3.76069e-91\n",
       "  115696         2            2              0  6.17550e-83  2.44667e-78\n",
       "  112138         1            1              0  3.49997e-81  1.03999e-76\n",
       "  111904         2            2              0  7.98368e-76  1.89783e-71\n",
       "     ...       ...          ...            ...          ...          ...\n",
       "  186708         1            0              0            1            1\n",
       "  186709         1            0              0            1            1\n",
       "  186710         1            0              0            1            1\n",
       "  186711         1            0              0            1            1\n",
       "  186712         1            0              0            1            1\n",
       "           direction\n",
       "         <character>\n",
       "   60384          up\n",
       "   15829          up\n",
       "  115696          up\n",
       "  112138          up\n",
       "  111904          up\n",
       "     ...         ...\n",
       "  186708        none\n",
       "  186709        none\n",
       "  186710        none\n",
       "  186711        none\n",
       "  186712        none\n",
       "  -------\n",
       "  seqinfo: 24 sequences from an unspecified genome; no seqlengths"
      ]
     },
     "metadata": {},
     "output_type": "display_data"
    },
    {
     "data": {
      "text/plain": [
       "GRanges object with 34842 ranges and 9 metadata columns:\n",
       "         seqnames              ranges strand |     logFC    logCPM         F\n",
       "            <Rle>           <IRanges>  <Rle> | <numeric> <numeric> <numeric>\n",
       "   60384     chr5 138469317-138470608      * |   6.25531   5.37099   735.393\n",
       "   15829     chr1 227934674-227935432      * |   4.83779   4.32179   432.132\n",
       "  115696    chr11   86743268-86744037      * |   5.48869   3.76163   373.782\n",
       "  112138    chr11   43830868-43831314      * |   7.00383   3.46957   364.337\n",
       "  111904    chr11   36149504-36150219      * |   4.84193   3.74910   341.091\n",
       "     ...      ...                 ...    ... .       ...       ...       ...\n",
       "  168891    chr19   47241125-47241318      * |  0.626727  1.907107   5.96195\n",
       "    7732     chr1   94602295-94602985      * | -0.482369  3.339657   7.19420\n",
       "    2443     chr1   23751215-23751589      * | -0.797961  1.200870   7.19183\n",
       "  158149    chr17   74210496-74210672      * | -0.576627  2.104928   5.95778\n",
       "   59879     chr5 132773908-132774655      * | -0.981639  0.676195   7.92154\n",
       "         num.tests num.up.logFC num.down.logFC       PValue          FDR\n",
       "         <integer>    <integer>      <integer>    <numeric>    <numeric>\n",
       "   60384         1            1              0 8.64829e-162 1.02791e-156\n",
       "   15829         1            1              0  6.32809e-96  3.76069e-91\n",
       "  115696         2            2              0  6.17550e-83  2.44667e-78\n",
       "  112138         1            1              0  3.49997e-81  1.03999e-76\n",
       "  111904         2            2              0  7.98368e-76  1.89783e-71\n",
       "     ...       ...          ...            ...          ...          ...\n",
       "  168891         1            1              0    0.0146184    0.0498735\n",
       "    7732         2            0              1    0.0146286    0.0499069\n",
       "    2443         2            0              2    0.0146479    0.0499716\n",
       "  158149         1            0              1    0.0146529    0.0499872\n",
       "   59879         3            0              1    0.0146557    0.0499952\n",
       "           direction\n",
       "         <character>\n",
       "   60384          up\n",
       "   15829          up\n",
       "  115696          up\n",
       "  112138          up\n",
       "  111904          up\n",
       "     ...         ...\n",
       "  168891          up\n",
       "    7732        down\n",
       "    2443        down\n",
       "  158149        down\n",
       "   59879        down\n",
       "  -------\n",
       "  seqinfo: 24 sequences from an unspecified genome; no seqlengths"
      ]
     },
     "metadata": {},
     "output_type": "display_data"
    }
   ],
   "source": [
    "\n",
    "# stabilize dispersion estimates with empirical bayes\n",
    "y <- estimateDisp(y, design)\n",
    "fit <- glmQLFit(y, design, robust=TRUE)\n",
    "\n",
    "# testing for differentially-accessible windows\n",
    "results <- glmQLFTest(fit, contrast=makeContrasts(treat-control, levels=design))\n",
    "# head(results$table)\n",
    "rowData(working.windows) <- cbind(rowData(working.windows), results$table) # combine GRanges rowdata with differential statistics\n",
    "# working.windows@rowRanges\n",
    " \n",
    "# merge nearby windows\n",
    "# up to \"tol\" distance apart: 500 bp in this case; max merged window width: 5000 bp\n",
    "merged.peaks <- mergeWindows(rowRanges(working.windows), tol=500L, max.width=5000L)\n",
    "# summary(width(merged.peaks$region))\n",
    "# should merge some peaks; change as desired\n",
    "\n",
    "# use most significant window as statistical representation for p-value and FDR for merged windows\n",
    "tab.best <- getBestTest(merged.peaks$id, results$table)\n",
    " \n",
    "# concatenating all relevant statistical data for final merged windows (no redundant columns)\n",
    "final.merged.peaks <- GRanges(cbind(as.data.frame(merged.peaks$region), \n",
    "                                    results$table[tab.best$rep.test, -4], tab.best[,-c(7:8)]))\n",
    " \n",
    "# sort by FDR\n",
    "final.merged.peaks <- final.merged.peaks[order(final.merged.peaks@elementMetadata$FDR), ]\n",
    "final.merged.peaks\n",
    " \n",
    "# filter by FDR threshold\n",
    "FDR.thresh <- 0.05 # set as desired\n",
    "final.merged.peaks.sig <- final.merged.peaks[final.merged.peaks@elementMetadata$FDR < FDR.thresh, ]\n",
    "final.merged.peaks.sig # significant differentially-accessible windows\n",
    "\n",
    "write.table(final.merged.peaks, \n",
    "           \"stim_v_ctrl_csaw_DA-windows_all.txt\", \n",
    "            sep=\"\\t\", quote=F, col.names=T, row.names=F)\n",
    "write.table(final.merged.peaks.sig, \n",
    "            \"stim_v_ctrl_csaw_DA-windows_significant.txt\", \n",
    "            sep=\"\\t\", quote=F, col.names=T, row.names=F)"
   ]
  },
  {
   "cell_type": "code",
   "execution_count": null,
   "id": "a8da9bb0",
   "metadata": {},
   "outputs": [],
   "source": []
  }
 ],
 "metadata": {
  "environment": {
   "name": "r-cpu.4-0.m76",
   "type": "gcloud",
   "uri": "gcr.io/deeplearning-platform-release/r-cpu.4-0:m76"
  },
  "kernelspec": {
   "display_name": "R",
   "language": "R",
   "name": "ir"
  },
  "language_info": {
   "codemirror_mode": "r",
   "file_extension": ".r",
   "mimetype": "text/x-r-source",
   "name": "R",
   "pygments_lexer": "r",
   "version": "4.1.1"
  }
 },
 "nbformat": 4,
 "nbformat_minor": 5
}
