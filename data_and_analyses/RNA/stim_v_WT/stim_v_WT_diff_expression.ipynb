{
 "cells": [
  {
   "cell_type": "code",
   "execution_count": 1,
   "id": "4d894de8",
   "metadata": {},
   "outputs": [],
   "source": [
    " suppressPackageStartupMessages({\n",
    "    library(BiocGenerics)\n",
    "    library(SummarizedExperiment)\n",
    "    library(tximeta)\n",
    "    library(rjson)\n",
    "    library(tximport)\n",
    "    library(dplyr)\n",
    "    library(data.table)\n",
    "    library(ggplot2)\n",
    "    library(ggrepel)\n",
    "    library(\"DESeq2\")\n",
    "    library(\"tidyr\")\n",
    "    library(\"tidyr\")\n",
    "    library(\"tibble\")\n",
    "    library(\"fgsea\")\n",
    "    library(apeglm)\n",
    "    library(ggprism)\n",
    "})\n"
   ]
  },
  {
   "cell_type": "code",
   "execution_count": 2,
   "id": "9c56c1f5",
   "metadata": {},
   "outputs": [],
   "source": [
    "gene_map <- fread('../../../reference_files/gencode.v38.gene_transcript_type.tsv',header=FALSE)\n",
    "colnames(gene_map) <- c(\"gene_id\",\"transcript_id\",\"gene_type\",\"gene_symbol\")\n",
    "gene_map <- dplyr::select(data.frame(gene_map), gene_id, gene_type, gene_symbol) %>% distinct()"
   ]
  },
  {
   "cell_type": "code",
   "execution_count": 3,
   "id": "b9718ba0",
   "metadata": {},
   "outputs": [
    {
     "name": "stderr",
     "output_type": "stream",
     "text": [
      "reading in files with read_tsv\n",
      "\n",
      "1 \n",
      "Warning message:\n",
      "\"One or more parsing issues, see `problems()` for details\"\n",
      "2 \n",
      "Warning message:\n",
      "\"One or more parsing issues, see `problems()` for details\"\n",
      "3 \n",
      "Warning message:\n",
      "\"One or more parsing issues, see `problems()` for details\"\n",
      "4 \n",
      "Warning message:\n",
      "\"One or more parsing issues, see `problems()` for details\"\n",
      "5 \n",
      "Warning message:\n",
      "\"One or more parsing issues, see `problems()` for details\"\n",
      "6 \n",
      "Warning message:\n",
      "\"One or more parsing issues, see `problems()` for details\"\n",
      "\n",
      "\n",
      "using counts and average transcript lengths from tximport\n",
      "\n",
      "estimating size factors\n",
      "\n",
      "using 'avgTxLength' from assays(dds), correcting for library size\n",
      "\n",
      "estimating dispersions\n",
      "\n",
      "gene-wise dispersion estimates\n",
      "\n",
      "mean-dispersion relationship\n",
      "\n",
      "final dispersion estimates\n",
      "\n",
      "fitting model and testing\n",
      "\n",
      "using 'apeglm' for LFC shrinkage. If used in published research, please cite:\n",
      "    Zhu, A., Ibrahim, J.G., Love, M.I. (2018) Heavy-tailed prior distributions for\n",
      "    sequence count data: removing the noise and preserving large differences.\n",
      "    Bioinformatics. https://doi.org/10.1093/bioinformatics/bty895\n",
      "\n"
     ]
    }
   ],
   "source": [
    "### we are interested in the effect of BHLHE40 OE in STIM conditions\n",
    "files <- c(\"jurkat_control_1.gene_quants.sf\",\n",
    "           \"jurkat_control_2.gene_quants.sf\",\n",
    "           \"jurkat_control_3.gene_quants.sf\",\n",
    "           \"jurkat_stim_1.gene_quants.sf\",\n",
    "           \"jurkat_stim_2.gene_quants.sf\",\n",
    "           \"jurkat_stim_3.gene_quants.sf\")\n",
    "\n",
    "txi.rna <- tximport(files, type = \"salmon\", txOut = TRUE)\n",
    "\n",
    "txi.rna_se_counts <- SummarizedExperiment(assays=list(counts=txi.rna$counts,\n",
    "                                                      lengths=txi.rna$length))\n",
    "\n",
    "## Create a sampletable/metadata\n",
    "condition = factor(c(\"ctrl\", \"ctrl\", \"ctrl\",\n",
    "                     \"stim\", \"stim\", \"stim\"))\n",
    "\n",
    "meta <- data.frame(condition)\n",
    "dds <- DESeqDataSetFromTximport(txi.rna, colData = meta, design = ~condition)\n",
    "dds$condition <- relevel(dds$condition, \"ctrl\")\n",
    "dds <- DESeq(dds)\n",
    "#dds <- estimateSizeFactors(dds) genotypeOE.conditionstim\n",
    "results <- results(dds, contrast = c(\"condition\", \"stim\", \"ctrl\"))#name=\"\")\n",
    "resLFC <- lfcShrink(dds, coef=\"condition_stim_vs_ctrl\", type=\"apeglm\")\n",
    "#results <- results(dds, name=\"genotypeOE.conditionstim\")"
   ]
  },
  {
   "cell_type": "code",
   "execution_count": 4,
   "id": "1f5d1efa",
   "metadata": {},
   "outputs": [],
   "source": [
    "res_table_tb <- resLFC %>%\n",
    "  data.frame() %>%\n",
    "  rownames_to_column(var=\"gene\") %>% \n",
    "  as_tibble()\n",
    "\n",
    "res_table_tb.dt <- data.table(res_table_tb)\n",
    "res_table_tb.dt <- merge(res_table_tb.dt, gene_map, by.x = c(\"gene\"), by.y = c(\"gene_id\"))\n",
    "res_table_tb.dt <- filter(res_table_tb.dt, gene_type == 'protein_coding')\n",
    "\n",
    "res_table_tb.dt$gene <- sapply(strsplit(res_table_tb.dt$gene, \"\\\\.\"),'[',1)\n",
    "res_table_tb.dt_sig <- filter(res_table_tb.dt, (padj < 0.05))\n",
    "res_table_tb.dt$gene_name <- \"\"\n",
    "res_table_tb.dt_sig$gene_name <- \"\"\n"
   ]
  },
  {
   "cell_type": "code",
   "execution_count": 5,
   "id": "9f157a4e",
   "metadata": {},
   "outputs": [],
   "source": [
    "\n",
    "### list of ebox and gata factors\n",
    "ebox_gata <- fread('ebox_gata.txt',header=FALSE)\n",
    "colnames(ebox_gata) <- c(\"gene_name\")"
   ]
  },
  {
   "cell_type": "code",
   "execution_count": 6,
   "id": "c9a1735b",
   "metadata": {},
   "outputs": [],
   "source": [
    "res_table_tb.dt_filt <- filter(res_table_tb.dt,\n",
    "                               gene_symbol %in% ebox_gata$gene_name)\n",
    "\n",
    "write.table(res_table_tb.dt_filt,\n",
    "            'stim_v_wt_results.tsv',\n",
    "            sep = '\\t', col.names=TRUE,row.names=FALSE)\n",
    "\n"
   ]
  },
  {
   "cell_type": "code",
   "execution_count": null,
   "id": "1fbe3deb",
   "metadata": {},
   "outputs": [],
   "source": []
  }
 ],
 "metadata": {
  "environment": {
   "name": "r-cpu.4-0.m76",
   "type": "gcloud",
   "uri": "gcr.io/deeplearning-platform-release/r-cpu.4-0:m76"
  },
  "kernelspec": {
   "display_name": "R",
   "language": "R",
   "name": "ir"
  },
  "language_info": {
   "codemirror_mode": "r",
   "file_extension": ".r",
   "mimetype": "text/x-r-source",
   "name": "R",
   "pygments_lexer": "r",
   "version": "4.1.1"
  }
 },
 "nbformat": 4,
 "nbformat_minor": 5
}
