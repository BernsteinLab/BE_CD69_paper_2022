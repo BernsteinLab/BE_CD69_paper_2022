{
 "cells": [
  {
   "cell_type": "code",
   "execution_count": 1,
   "id": "50fd646f",
   "metadata": {},
   "outputs": [],
   "source": [
    "## plot score bedgraphs\n",
    "\n",
    "suppressPackageStartupMessages({\n",
    "library(data.table)\n",
    "library(dplyr)\n",
    "library(ggplot2)\n",
    "library(stringr)\n",
    "library(ggprism)\n",
    "library(ggplot2)\n",
    "library(cowplot)\n",
    "library(dplyr)\n",
    "library(Gviz)\n",
    "library(rtracklayer)\n",
    "library(BSgenome.Hsapiens.UCSC.hg38)\n",
    "library(TxDb.Hsapiens.UCSC.hg38.knownGene)\n",
    "library(GenomicRanges)\n",
    "library(\"wesanderson\")\n",
    "    library(RColorBrewer)\n",
    "    library(ggsci)\n",
    "    library(ggrepel)\n",
    "    })\n",
    "\n",
    "### "
   ]
  },
  {
   "cell_type": "code",
   "execution_count": 2,
   "id": "549bad98",
   "metadata": {},
   "outputs": [],
   "source": [
    "motifs <- fread('hocomoco_motifs.bed', header=FALSE)\n",
    "colnames(motifs) <- c(\"chrom\", \"start\", \"end\", \"sequence\",\"motif_class\", \"value\")\n",
    "motifs <- motifs %>% group_by(chrom, start,motif_class) %>% mutate(sequence = sequence[which.max(value)],\n",
    "                                                            motif_class = motif_class[which.max(value)],\n",
    "                                                            value = value[which.max(value)]) %>% ungroup() %>% unique()\n",
    "## filter out low quality calls, only keep top 25% \n",
    "motifs <- filter(motifs, value > 0)\n",
    "motifs <- filter(motifs, value > quantile(motifs$value, c(0.75)))"
   ]
  },
  {
   "cell_type": "code",
   "execution_count": 3,
   "id": "94d92d5e",
   "metadata": {},
   "outputs": [],
   "source": [
    "motifs_gata <- as.data.frame(motifs) %>% filter(grepl('GATA', motif_class)) %>% dplyr::select(chrom, start, end, value) %>% data.table() %>% unique()\n",
    "motifs_gata <- motifs_gata %>% filter(value > 0)\n",
    "motifs_bHLH <- as.data.frame(motifs) %>% filter(grepl('MYOD', motif_class) | \n",
    "                                               grepl('MYOG', motif_class) | \n",
    "                                               grepl('CLOCK', motif_class) | \n",
    "                                                grepl('ATOH', motif_class) | \n",
    "                                               grepl('BHA', motif_class) | \n",
    "                                                grepl('HIF', motif_class) | \n",
    "                                                grepl('ITF', motif_class) |\n",
    "                                                grepl('MAX', motif_class) | \n",
    "                                               grepl('BHE', motif_class) |\n",
    "                                                grepl('ASCL', motif_class) |\n",
    "                                                grepl('LYL', motif_class) |\n",
    "                                               grepl('MYC', motif_class)\n",
    "                                               ) %>% dplyr::select(chrom, start, end, value) %>% data.table()%>% unique()\n",
    "motifs_bHLH <- motifs_bHLH %>% filter(value > 0)\n",
    "\n",
    "motifs_ETS <- as.data.frame(motifs) %>% filter(grepl('ETS', motif_class)) %>% dplyr::select(chrom, start, end, value) %>% data.table()%>% unique()\n",
    "motifs_ETS <- motifs_ETS %>% filter(value > 0)\n",
    "\n",
    "motifs_TCF <- as.data.frame(motifs) %>% filter(grepl('TCF', motif_class)) %>% dplyr::select(chrom, start, end, value) %>% data.table()%>% unique()\n",
    "motifs_TCF <- motifs_TCF %>% filter(value > 0)\n",
    "\n",
    "motifs_NFKB <- as.data.frame(motifs) %>% filter(grepl('NFKB', motif_class)) %>% dplyr::select(chrom, start, end, value) %>% data.table()%>% unique()\n",
    "motifs_NFKB <- motifs_NFKB %>% filter(value > 0)\n",
    "\n",
    "motifs_STAT <- as.data.frame(motifs) %>% filter(grepl('STAT', motif_class)) %>% dplyr::select(chrom, start, end, value) %>% data.table()%>% unique()\n",
    "motifs_STAT <- motifs_STAT %>% filter(value > 0)"
   ]
  },
  {
   "cell_type": "code",
   "execution_count": 4,
   "id": "78fda9c9",
   "metadata": {},
   "outputs": [
    {
     "name": "stderr",
     "output_type": "stream",
     "text": [
      "Warning message in .prepareDtData(data, len = length(range)):\n",
      "\"The following non-numeric data column has been dropped: chrom\"\n",
      "Warning message in .prepareDtData(data, len = length(range)):\n",
      "\"The following non-numeric data column has been dropped: chrom\"\n",
      "Warning message in .prepareDtData(data, len = length(range)):\n",
      "\"The following non-numeric data column has been dropped: chrom\"\n",
      "Warning message in .prepareDtData(data, len = length(range)):\n",
      "\"The following non-numeric data column has been dropped: chrom\"\n",
      "Warning message in .prepareDtData(data, len = length(range)):\n",
      "\"The following non-numeric data column has been dropped: chrom\"\n",
      "Warning message in .prepareDtData(data, len = length(range)):\n",
      "\"The following non-numeric data column has been dropped: chrom\"\n"
     ]
    },
    {
     "data": {
      "text/html": [
       "<strong>png:</strong> 2"
      ],
      "text/latex": [
       "\\textbf{png:} 2"
      ],
      "text/markdown": [
       "**png:** 2"
      ],
      "text/plain": [
       "png \n",
       "  2 "
      ]
     },
     "metadata": {},
     "output_type": "display_data"
    }
   ],
   "source": [
    "gtrack <- GenomeAxisTrack()\n",
    "chr_no <- 12 \n",
    "chr_start <- 9764556  # start of region\n",
    "chr_end <- 9765505 # end of region\n",
    "\n",
    "gen <- 'hg38'\n",
    "\n",
    "gata_bedgraph <- DataTrack(range = motifs_gata,type = c(\"gradient\"),genome = 'hg38',chromosome=chr_no,start=chr_start, \n",
    "                            end=chr_end, name = \"Input*Gradient\",col=\"red\",showColorBar=TRUE,\n",
    "                             ylim = c(0,15))\n",
    "bHLH_bedgraph <- DataTrack(range = motifs_bHLH,type = c(\"gradient\"),genome = 'hg38',chromosome=chr_no,start=chr_start, \n",
    "                            end=chr_end, name = \"Input*Gradient\",col=\"red\",showColorBar=TRUE,\n",
    "                             ylim = c(0,15))\n",
    "TCF_bedgraph <- DataTrack(range = motifs_TCF,type = c(\"gradient\"),genome = 'hg38',chromosome=chr_no,start=chr_start, \n",
    "                            end=chr_end, name = \"Input*Gradient\",col=\"red\",showColorBar=TRUE,\n",
    "                             ylim = c(0,15))\n",
    "Ets_bedgraph <- DataTrack(range = motifs_ETS,type = c(\"gradient\"),genome = 'hg38',chromosome=chr_no,start=chr_start, \n",
    "                            end=chr_end, name = \"Input*Gradient\",col=\"red\",showColorBar=TRUE,\n",
    "                             ylim = c(0,15))\n",
    "NFKB_bedgraph <- DataTrack(range = motifs_NFKB,type = c(\"gradient\"),genome = 'hg38',chromosome=chr_no,start=chr_start, \n",
    "                            end=chr_end, name = \"Input*Gradient\",col=\"red\",showColorBar=TRUE,\n",
    "                             ylim = c(0,15) )\n",
    "STAT_bedgraph <- DataTrack(range = motifs_STAT,type = c(\"gradient\"),genome = 'hg38',chromosome=chr_no,start=chr_start, \n",
    "                            end=chr_end, name = \"Input*Gradient\",col=\"red\",showColorBar=TRUE,\n",
    "                             ylim = c(0,15) )\n",
    "pdf(\"motif_heatmap.pdf\")\n",
    "plotTracks(list(gtrack,\n",
    "                gata_bedgraph,\n",
    "                bHLH_bedgraph,\n",
    "                TCF_bedgraph,\n",
    "                Ets_bedgraph,\n",
    "                NFKB_bedgraph,\n",
    "                STAT_bedgraph),\n",
    "           chromosome = \"chr12\",from = 9764556, to= 9765505,\n",
    "           type = c(\"gradient\"),\n",
    "           ncolor=50,\n",
    "           gradient=c(\"black\",\"black\")\n",
    "           )\n",
    "dev.off()"
   ]
  },
  {
   "cell_type": "code",
   "execution_count": 6,
   "id": "f2b80a60",
   "metadata": {},
   "outputs": [
    {
     "ename": "ERROR",
     "evalue": "Error in fread(\"~/BE_CD69_paper_2022//data/experimental/BE_data.tsv\", : File '~/BE_CD69_paper_2022//data/experimental/BE_data.tsv' does not exist or is non-readable. getwd()=='/home/jupyter/repos/BE_CD69_paper_2022/Figure2'\n",
     "output_type": "error",
     "traceback": [
      "Error in fread(\"~/BE_CD69_paper_2022//data/experimental/BE_data.tsv\", : File '~/BE_CD69_paper_2022//data/experimental/BE_data.tsv' does not exist or is non-readable. getwd()=='/home/jupyter/repos/BE_CD69_paper_2022/Figure2'\nTraceback:\n",
      "1. fread(\"~/BE_CD69_paper_2022//data/experimental/BE_data.tsv\", \n .     header = FALSE)",
      "2. stop(\"File '\", file, \"' does not exist or is non-readable. getwd()=='\", \n .     getwd(), \"'\")"
     ]
    }
   ],
   "source": [
    "### read in be and dcas9 results\n",
    "### fetch aggregated base editor data(averaged across replicates)\n",
    "\n",
    "be <- fread('../rBE_data.tsv',header=FALSE)\n",
    "colnames(be) <- c(\"start\", \"data\")\n",
    "be$chromosome <- \"chr12\"\n",
    "be$end <- be$start + 20 ## guides are 20 bp long\n",
    "be$data <- -1 * be$data ### flip \n",
    "be <- na.omit(be)\n",
    "\n",
    "### fetch dcas9 krab data\n",
    "\n",
    "### fetch aggregated base editor data(averaged across replicates)\n",
    "\n",
    "dcas9 <- fread('~/BE_CD69_paper_2022/data/experimental/dCas9_data.tsv',header=TRUE)\n",
    "colnames(dcas9) <- c(\"start\", \"data\", \"rep\")\n",
    "dcas9 <- dcas9 %>% group_by(start) %>% summarise(data = mean(data))\n",
    "dcas9$chromosome <- \"chr12\"\n",
    "dcas9$end <- dcas9$start + 20\n",
    "dcas9$data <- -1 * dcas9$data\n",
    "dcas9 <- na.omit(dcas9)\n",
    "\n",
    "\n"
   ]
  },
  {
   "cell_type": "code",
   "execution_count": 7,
   "id": "478654bb",
   "metadata": {},
   "outputs": [
    {
     "ename": "ERROR",
     "evalue": "Error in data.frame(be): object 'be' not found\n",
     "output_type": "error",
     "traceback": [
      "Error in data.frame(be): object 'be' not found\nTraceback:\n",
      "1. DataTrack(range = data.frame(be), type = c(\"p\"), genome = \"hg38\", \n .     chromosome = chr_no, start = chr_start, end = chr_end, name = \"base editor\", \n .     col = \"red\")",
      "2. is(range, \"GRanges\")",
      "3. data.frame(be)"
     ]
    }
   ],
   "source": [
    "## now lets plot the BE and dCas9 results\n",
    "gtrack <- GenomeAxisTrack()\n",
    "chr_no <- 12 \n",
    "chr_start <- 9764556  # start of region\n",
    "chr_end <- 9765505 # end of region\n",
    "\n",
    "gen <- 'hg38'\n",
    "\n",
    "be_bedgraph <- DataTrack(range = data.frame(be),type = c(\"p\"),genome = 'hg38',chromosome=chr_no,start=chr_start, \n",
    "                         end=chr_end, name = \"base editor\",col=\"red\")\n",
    "\n",
    "dcas9_bedgraph <- DataTrack(range = data.frame(dcas9),type = c(\"p\"),genome = 'hg38',chromosome=chr_no,start=chr_start, \n",
    "                         end=chr_end, name = \"dcas9\",col=\"red\")\n",
    "\n",
    "pdf(\"be_dcas9_results.pdf\")\n",
    "plotTracks(list(gtrack,\n",
    "                be_bedgraph,\n",
    "               dcas9_bedgraph), \n",
    "           chromosome = \"chr12\",from = 9764556, to= 9765505,\n",
    "           ncolor=50,\n",
    "           gradient=c(\"black\",\"black\")\n",
    "           )\n",
    "dev.off()\n"
   ]
  },
  {
   "cell_type": "code",
   "execution_count": null,
   "id": "b663befa",
   "metadata": {},
   "outputs": [],
   "source": [
    "## overlay above w/ following heatmap to get feature width. plot remaining in illustrator\n",
    "\n",
    "be_bedgraph <- DataTrack(range = data.frame(be),type = c(\"heatmap\"),genome = 'hg38',chromosome=chr_no,start=chr_start, \n",
    "                         end=chr_end, name = \"base editor\",col=\"red\")\n",
    "\n",
    "dcas9_bedgraph <- DataTrack(range = data.frame(dcas9),type = c(\"heatmap\"),genome = 'hg38',chromosome=chr_no,start=chr_start, \n",
    "                         end=chr_end, name = \"dcas9\",col=\"red\")\n",
    "\n",
    "#pdf(\"motif_heatmap.pdf\")\n",
    "plotTracks(list(gtrack,\n",
    "                be_bedgraph,\n",
    "               dcas9_bedgraph), \n",
    "           chromosome = \"chr12\",from = 9764556, to= 9765505,\n",
    "           ncolor=50,\n",
    "           gradient=c(\"black\",\"black\")\n",
    "           )"
   ]
  }
 ],
 "metadata": {
  "environment": {
   "name": "r-cpu.4-0.m76",
   "type": "gcloud",
   "uri": "gcr.io/deeplearning-platform-release/r-cpu.4-0:m76"
  },
  "kernelspec": {
   "display_name": "R",
   "language": "R",
   "name": "ir"
  },
  "language_info": {
   "codemirror_mode": "r",
   "file_extension": ".r",
   "mimetype": "text/x-r-source",
   "name": "R",
   "pygments_lexer": "r",
   "version": "4.1.1"
  }
 },
 "nbformat": 4,
 "nbformat_minor": 5
}
