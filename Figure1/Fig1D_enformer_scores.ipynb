{
 "cells": [
  {
   "cell_type": "code",
   "execution_count": 3,
   "id": "b308ec73",
   "metadata": {},
   "outputs": [],
   "source": [
    "suppressPackageStartupMessages({\n",
    "library(tidyverse)\n",
    "library(Gviz)\n",
    "library(rtracklayer)\n",
    "library(GenomicFeatures)\n",
    "library(data.table)\n",
    "    })"
   ]
  },
  {
   "cell_type": "code",
   "execution_count": 4,
   "id": "1d29bda5",
   "metadata": {},
   "outputs": [],
   "source": [
    "gtrack <- GenomeAxisTrack()\n",
    "\n",
    "gen <- 'hg38'"
   ]
  },
  {
   "cell_type": "code",
   "execution_count": 7,
   "id": "e5f83b5e",
   "metadata": {},
   "outputs": [
    {
     "data": {
      "text/html": [
       "<strong>png:</strong> 2"
      ],
      "text/latex": [
       "\\textbf{png:} 2"
      ],
      "text/markdown": [
       "**png:** 2"
      ],
      "text/plain": [
       "png \n",
       "  2 "
      ]
     },
     "metadata": {},
     "output_type": "display_data"
    }
   ],
   "source": [
    "zoom_bedgraph_enformer <- fread(\n",
    "  \"../data_and_analyses/Enformer_scores/CD69_original_enformer_Fig1D_locus/CD69.all.bedGraph.all.bedGraph\",\n",
    "  col.names = c('chromosome', 'start', 'end', 'value')\n",
    ")\n",
    "zoom_bedgraph_enformer$value <- abs(zoom_bedgraph_enformer$value)\n",
    "\n",
    "IG_bedgraph <- DataTrack(\n",
    "  range = zoom_bedgraph_enformer,\n",
    "  type = c(\"gradient\"),\n",
    "  genome = 'hg38',\n",
    "  chromosome=\"chr12\",\n",
    "  start=9764300, # start of region\n",
    "  end=9765900, # end of region\n",
    "  name = \"Input*Gradient\",\n",
    "    col=\"red\",\n",
    "    showColorBar=TRUE\n",
    "    \n",
    ")\n",
    "pdf(\"cd69_gradient_RE4.pdf\")\n",
    "plotTracks(list(gtrack,\n",
    "                #gtTrack,\n",
    "                IG_bedgraph), shape = \"arrow\", \n",
    "           transcriptAnnotation = \"symbol\", chromosome = \"chr12\",from = 9764300, to= 9765900,\n",
    "           type = c(\"h\",\"coverage\"),scale = 0.5, \n",
    "           labelPos = \"below\"\n",
    "           )\n",
    "dev.off()"
   ]
  },
  {
   "cell_type": "code",
   "execution_count": null,
   "id": "b8bf411f",
   "metadata": {},
   "outputs": [],
   "source": []
  }
 ],
 "metadata": {
  "environment": {
   "name": "r-cpu.4-0.m76",
   "type": "gcloud",
   "uri": "gcr.io/deeplearning-platform-release/r-cpu.4-0:m76"
  },
  "kernelspec": {
   "display_name": "R",
   "language": "R",
   "name": "ir"
  },
  "language_info": {
   "codemirror_mode": "r",
   "file_extension": ".r",
   "mimetype": "text/x-r-source",
   "name": "R",
   "pygments_lexer": "r",
   "version": "4.1.1"
  }
 },
 "nbformat": 4,
 "nbformat_minor": 5
}
