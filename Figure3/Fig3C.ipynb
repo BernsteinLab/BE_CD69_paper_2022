{
 "cells": [
  {
   "cell_type": "code",
   "execution_count": 4,
   "id": "bb926412",
   "metadata": {},
   "outputs": [],
   "source": [
    "suppressPackageStartupMessages({\n",
    "library(tidyverse)\n",
    "library(Gviz)\n",
    "library(rtracklayer)\n",
    "library(GenomicFeatures)\n",
    "library(data.table)\n",
    "    library(ggprism)\n",
    "    })"
   ]
  },
  {
   "cell_type": "code",
   "execution_count": 5,
   "id": "1ae8fe5b",
   "metadata": {},
   "outputs": [],
   "source": [
    "GTF_dir <- \"../gencode.v40.annotation.gtf\"\n",
    "\n",
    "#hg38_txdb <- makeTxDbFromGFF(GTF_dir,\n",
    "#                                 format=\"gtf\",\n",
    "#                                 organism=\"Homo sapiens\",\n",
    "#                                 dbxrefTag = \"gene_name\")\n",
    " \n",
    " \n",
    "#saveDb(hg38_txdb, \"~/BE_paper_2022/reference_files/hg38.txdb\")\n",
    "\n",
    "hg38_txdb <- loadDb(\"../reference_files/hg38.txdb\")\n"
   ]
  },
  {
   "cell_type": "code",
   "execution_count": 6,
   "id": "16cb6df2",
   "metadata": {},
   "outputs": [],
   "source": [
    "gtrack <- GenomeAxisTrack()\n",
    "# specify the start and end of chromosome \n",
    "chr_no <- 12 \n",
    "chr_start <- 9740000  # start of region\n",
    "chr_end <- 9780000 # end of region\n",
    "\n",
    "gen <- 'hg38'\n",
    "\n",
    "## set gene region track\n",
    "gtTrack <- GeneRegionTrack(hg38_txdb,\n",
    "                           chromosome=chr_no, # chromosome number\n",
    "                           start=chr_start, # start of region\n",
    "                           end=chr_end, # end of region\n",
    "                           transcriptAnnotation=\"gene_id\", # symbol is the gene symbol\n",
    "                           fontsize.group=20# free to adjust font size\n",
    ")"
   ]
  },
  {
   "cell_type": "code",
   "execution_count": 7,
   "id": "75f57cb1",
   "metadata": {},
   "outputs": [],
   "source": [
    "\n",
    "p258_stim = import.bw(\"../data_and_analyses/ATAC/258_v_260_edit_v_WT/bigwigs/Jurkat_P258_stim.merged.bw\",as=\"GRanges\")\n",
    "p260_stim = import.bw(\"../data_and_analyses/ATAC/258_v_260_edit_v_WT/bigwigs/Jurkat_P260_stim.merged.bw\",as=\"GRanges\")\n",
    "\n",
    "\n",
    "options(ucscChromosomeNames=FALSE)\n",
    "\n",
    "\n",
    "p258_stim_tr <- DataTrack(\n",
    "  range = p258_stim,\n",
    "  chromosome=chr_no,\n",
    "  start=chr_start, # start of region\n",
    "  end=chr_end, # end of region\n",
    "  col.histogram = \"red\",\n",
    "  ylim = c(0,100)\n",
    ")\n",
    "\n",
    "p260_stim_tr <- DataTrack(\n",
    "  range = p260_stim,\n",
    "  chromosome=chr_no,\n",
    "  start=chr_start, # start of region\n",
    "  end=chr_end, # end of region\n",
    "  col.histogram = \"red\",\n",
    "  ylim = c(0,100)\n",
    ")"
   ]
  },
  {
   "cell_type": "code",
   "execution_count": 8,
   "id": "6f0a4358",
   "metadata": {},
   "outputs": [
    {
     "data": {
      "text/html": [
       "<strong>png:</strong> 2"
      ],
      "text/latex": [
       "\\textbf{png:} 2"
      ],
      "text/markdown": [
       "**png:** 2"
      ],
      "text/plain": [
       "png \n",
       "  2 "
      ]
     },
     "metadata": {},
     "output_type": "display_data"
    }
   ],
   "source": [
    "pdf(\"3C_atac_bigwig.pdf\")\n",
    "## modify remainder in AI \n",
    "plotTracks(list(gtrack,\n",
    "                gtTrack,\n",
    "                p258_stim_tr,\n",
    "                p260_stim_tr), shape = \"arrow\", \n",
    "           transcriptAnnotation = \"symbol\", chromosome = \"chr12\",from = chr_start, to= chr_end,\n",
    "           type = c(\"h\",\"coverage\"),sizes=c(5,5,5,5)\n",
    "           )\n",
    "dev.off()"
   ]
  },
  {
   "cell_type": "code",
   "execution_count": 9,
   "id": "37f5880c",
   "metadata": {},
   "outputs": [
    {
     "name": "stderr",
     "output_type": "stream",
     "text": [
      "Warning message in fread(\"../data_and_analyses/ATAC/258_v_260_edit_v_WT/RE4_peak.out\"):\n",
      "\"Detected 3 column names but the data has 4 columns (i.e. invalid file). Added 1 extra default column name for the first column which is guessed to be row names or an index. Use setnames() afterwards if this guess is not correct, or fix the file write command that created the file to create a valid file.\"\n",
      "Saving 6.67 x 6.67 in image\n",
      "\n"
     ]
    },
    {
     "data": {
      "image/png": "[encoded data removed]",
      "text/plain": [
       "plot without title"
      ]
     },
     "metadata": {
      "image/png": {
       "height": 420,
       "width": 420
      }
     },
     "output_type": "display_data"
    }
   ],
   "source": [
    "library(ggprism)\n",
    "grouped_counts <- fread('../data_and_analyses/ATAC/258_v_260_edit_v_WT/RE4_peak.out')\n",
    "ggplot(grouped_counts,aes(x=group,y=mean)) + geom_bar(stat=\"identity\", color=\"black\", \n",
    "           position=position_dodge()) +\n",
    "geom_errorbar(aes(ymin=mean-sd, ymax=mean+sd), width=.2,\n",
    "                 position=position_dodge(.9)) + theme_prism()\n",
    "ggsave(\"CRE4.pdf\")\n"
   ]
  },
  {
   "cell_type": "code",
   "execution_count": 19,
   "id": "e1742a38",
   "metadata": {},
   "outputs": [
    {
     "name": "stderr",
     "output_type": "stream",
     "text": [
      "Warning message in fread(\"../data_and_analyses/ATAC/258_v_260_edit_v_WT/ROI_windows.adjusted.bed\"):\n",
      "\"Detected 6 column names but the data has 7 columns (i.e. invalid file). Added 1 extra default column name for the first column which is guessed to be row names or an index. Use setnames() afterwards if this guess is not correct, or fix the file write command that created the file to create a valid file.\"\n"
     ]
    }
   ],
   "source": [
    "#### da analysis 1MB\n",
    "library(ggrepel)\n",
    "windows <- fread('../data_and_analyses/ATAC/258_v_260_edit_v_WT/ROI_windows.adjusted.bed')\n",
    "windows$name <- paste(windows$V2,windows$V2,sep='-')\n",
    "windows$name <- paste(windows$name,windows$V3,sep='-') \n",
    "#ggplot(windows, aes(x=V4,y=-log10(FDR),label=name)) + geom_point() + geom_text_repel() + theme_prism()\n",
    "#ggsave(\"DA_analysis_1MB_window.pdf\")"
   ]
  },
  {
   "cell_type": "code",
   "execution_count": 20,
   "id": "cfd0e15c",
   "metadata": {},
   "outputs": [
    {
     "data": {
      "text/html": [
       "<table class=\"dataframe\">\n",
       "<caption>A data.table: 21 × 8</caption>\n",
       "<thead>\n",
       "\t<tr><th scope=col>V1</th><th scope=col>V1</th><th scope=col>V2</th><th scope=col>V3</th><th scope=col>V4</th><th scope=col>V5</th><th scope=col>FDR</th><th scope=col>name</th></tr>\n",
       "\t<tr><th scope=col>&lt;int&gt;</th><th scope=col>&lt;chr&gt;</th><th scope=col>&lt;int&gt;</th><th scope=col>&lt;int&gt;</th><th scope=col>&lt;dbl&gt;</th><th scope=col>&lt;dbl&gt;</th><th scope=col>&lt;dbl&gt;</th><th scope=col>&lt;chr&gt;</th></tr>\n",
       "</thead>\n",
       "<tbody>\n",
       "\t<tr><td> 1</td><td>chr12</td><td> 9764776</td><td> 9765449</td><td>-0.64668748</td><td>0.001648112</td><td>0.03461034</td><td>1-9764776-9765449   </td></tr>\n",
       "\t<tr><td> 2</td><td>chr12</td><td> 9751938</td><td> 9752109</td><td>-1.15165853</td><td>0.005775780</td><td>0.06064569</td><td>2-9751938-9752109   </td></tr>\n",
       "\t<tr><td> 3</td><td>chr12</td><td> 9435991</td><td> 9436078</td><td> 1.22281002</td><td>0.031728652</td><td>0.18123094</td><td>3-9435991-9436078   </td></tr>\n",
       "\t<tr><td> 4</td><td>chr12</td><td> 9708290</td><td> 9708440</td><td>-1.08209989</td><td>0.034594045</td><td>0.18123094</td><td>4-9708290-9708440   </td></tr>\n",
       "\t<tr><td> 5</td><td>chr12</td><td> 9741861</td><td> 9742058</td><td>-0.74342827</td><td>0.043150224</td><td>0.18123094</td><td>5-9741861-9742058   </td></tr>\n",
       "\t<tr><td> 6</td><td>chr12</td><td> 9951138</td><td> 9951553</td><td> 0.85227567</td><td>0.135138149</td><td>0.47298352</td><td>6-9951138-9951553   </td></tr>\n",
       "\t<tr><td> 7</td><td>chr12</td><td> 9455710</td><td> 9455792</td><td> 0.74791141</td><td>0.178818753</td><td>0.51390732</td><td>7-9455710-9455792   </td></tr>\n",
       "\t<tr><td> 8</td><td>chr12</td><td> 9798095</td><td> 9798254</td><td>-0.61107678</td><td>0.195774216</td><td>0.51390732</td><td>8-9798095-9798254   </td></tr>\n",
       "\t<tr><td> 9</td><td>chr12</td><td> 9674157</td><td> 9674343</td><td> 0.49954120</td><td>0.220499024</td><td>0.51449772</td><td>9-9674157-9674343   </td></tr>\n",
       "\t<tr><td>10</td><td>chr12</td><td>10190902</td><td>10191070</td><td> 0.38254338</td><td>0.284378352</td><td>0.59719454</td><td>10-10190902-10191070</td></tr>\n",
       "\t<tr><td>11</td><td>chr12</td><td> 9760865</td><td> 9761074</td><td>-0.25740984</td><td>0.370070411</td><td>0.70649806</td><td>11-9760865-9761074  </td></tr>\n",
       "\t<tr><td>12</td><td>chr12</td><td> 9702365</td><td> 9702501</td><td> 0.24122425</td><td>0.522957027</td><td>0.91517480</td><td>12-9702365-9702501  </td></tr>\n",
       "\t<tr><td>13</td><td>chr12</td><td> 9283586</td><td> 9284494</td><td> 0.32815179</td><td>1.000000000</td><td>1.00000000</td><td>13-9283586-9284494  </td></tr>\n",
       "\t<tr><td>14</td><td>chr12</td><td> 9447803</td><td> 9448389</td><td>-0.19356080</td><td>0.887511945</td><td>1.00000000</td><td>14-9447803-9448389  </td></tr>\n",
       "\t<tr><td>15</td><td>chr12</td><td> 9469515</td><td> 9469589</td><td>-0.14422223</td><td>0.801046520</td><td>1.00000000</td><td>15-9469515-9469589  </td></tr>\n",
       "\t<tr><td>16</td><td>chr12</td><td> 9647968</td><td> 9648340</td><td> 0.01677811</td><td>0.945633045</td><td>1.00000000</td><td>16-9647968-9648340  </td></tr>\n",
       "\t<tr><td>17</td><td>chr12</td><td> 9650762</td><td> 9651038</td><td> 0.08643596</td><td>0.762979049</td><td>1.00000000</td><td>17-9650762-9651038  </td></tr>\n",
       "\t<tr><td>18</td><td>chr12</td><td> 9758774</td><td> 9759073</td><td> 0.36143744</td><td>0.819012335</td><td>1.00000000</td><td>18-9758774-9759073  </td></tr>\n",
       "\t<tr><td>19</td><td>chr12</td><td> 9814144</td><td> 9814644</td><td>-0.09236852</td><td>1.000000000</td><td>1.00000000</td><td>19-9814144-9814644  </td></tr>\n",
       "\t<tr><td>20</td><td>chr12</td><td> 9906867</td><td> 9907189</td><td>-0.12982761</td><td>0.649630750</td><td>1.00000000</td><td>20-9906867-9907189  </td></tr>\n",
       "\t<tr><td>21</td><td>chr12</td><td>10212331</td><td>10213645</td><td>-0.26705931</td><td>1.000000000</td><td>1.00000000</td><td>21-10212331-10213645</td></tr>\n",
       "</tbody>\n",
       "</table>\n"
      ],
      "text/latex": [
       "A data.table: 21 × 8\n",
       "\\begin{tabular}{llllllll}\n",
       " V1 & V1 & V2 & V3 & V4 & V5 & FDR & name\\\\\n",
       " <int> & <chr> & <int> & <int> & <dbl> & <dbl> & <dbl> & <chr>\\\\\n",
       "\\hline\n",
       "\t  1 & chr12 &  9764776 &  9765449 & -0.64668748 & 0.001648112 & 0.03461034 & 1-9764776-9765449   \\\\\n",
       "\t  2 & chr12 &  9751938 &  9752109 & -1.15165853 & 0.005775780 & 0.06064569 & 2-9751938-9752109   \\\\\n",
       "\t  3 & chr12 &  9435991 &  9436078 &  1.22281002 & 0.031728652 & 0.18123094 & 3-9435991-9436078   \\\\\n",
       "\t  4 & chr12 &  9708290 &  9708440 & -1.08209989 & 0.034594045 & 0.18123094 & 4-9708290-9708440   \\\\\n",
       "\t  5 & chr12 &  9741861 &  9742058 & -0.74342827 & 0.043150224 & 0.18123094 & 5-9741861-9742058   \\\\\n",
       "\t  6 & chr12 &  9951138 &  9951553 &  0.85227567 & 0.135138149 & 0.47298352 & 6-9951138-9951553   \\\\\n",
       "\t  7 & chr12 &  9455710 &  9455792 &  0.74791141 & 0.178818753 & 0.51390732 & 7-9455710-9455792   \\\\\n",
       "\t  8 & chr12 &  9798095 &  9798254 & -0.61107678 & 0.195774216 & 0.51390732 & 8-9798095-9798254   \\\\\n",
       "\t  9 & chr12 &  9674157 &  9674343 &  0.49954120 & 0.220499024 & 0.51449772 & 9-9674157-9674343   \\\\\n",
       "\t 10 & chr12 & 10190902 & 10191070 &  0.38254338 & 0.284378352 & 0.59719454 & 10-10190902-10191070\\\\\n",
       "\t 11 & chr12 &  9760865 &  9761074 & -0.25740984 & 0.370070411 & 0.70649806 & 11-9760865-9761074  \\\\\n",
       "\t 12 & chr12 &  9702365 &  9702501 &  0.24122425 & 0.522957027 & 0.91517480 & 12-9702365-9702501  \\\\\n",
       "\t 13 & chr12 &  9283586 &  9284494 &  0.32815179 & 1.000000000 & 1.00000000 & 13-9283586-9284494  \\\\\n",
       "\t 14 & chr12 &  9447803 &  9448389 & -0.19356080 & 0.887511945 & 1.00000000 & 14-9447803-9448389  \\\\\n",
       "\t 15 & chr12 &  9469515 &  9469589 & -0.14422223 & 0.801046520 & 1.00000000 & 15-9469515-9469589  \\\\\n",
       "\t 16 & chr12 &  9647968 &  9648340 &  0.01677811 & 0.945633045 & 1.00000000 & 16-9647968-9648340  \\\\\n",
       "\t 17 & chr12 &  9650762 &  9651038 &  0.08643596 & 0.762979049 & 1.00000000 & 17-9650762-9651038  \\\\\n",
       "\t 18 & chr12 &  9758774 &  9759073 &  0.36143744 & 0.819012335 & 1.00000000 & 18-9758774-9759073  \\\\\n",
       "\t 19 & chr12 &  9814144 &  9814644 & -0.09236852 & 1.000000000 & 1.00000000 & 19-9814144-9814644  \\\\\n",
       "\t 20 & chr12 &  9906867 &  9907189 & -0.12982761 & 0.649630750 & 1.00000000 & 20-9906867-9907189  \\\\\n",
       "\t 21 & chr12 & 10212331 & 10213645 & -0.26705931 & 1.000000000 & 1.00000000 & 21-10212331-10213645\\\\\n",
       "\\end{tabular}\n"
      ],
      "text/markdown": [
       "\n",
       "A data.table: 21 × 8\n",
       "\n",
       "| V1 &lt;int&gt; | V1 &lt;chr&gt; | V2 &lt;int&gt; | V3 &lt;int&gt; | V4 &lt;dbl&gt; | V5 &lt;dbl&gt; | FDR &lt;dbl&gt; | name &lt;chr&gt; |\n",
       "|---|---|---|---|---|---|---|---|\n",
       "|  1 | chr12 |  9764776 |  9765449 | -0.64668748 | 0.001648112 | 0.03461034 | 1-9764776-9765449    |\n",
       "|  2 | chr12 |  9751938 |  9752109 | -1.15165853 | 0.005775780 | 0.06064569 | 2-9751938-9752109    |\n",
       "|  3 | chr12 |  9435991 |  9436078 |  1.22281002 | 0.031728652 | 0.18123094 | 3-9435991-9436078    |\n",
       "|  4 | chr12 |  9708290 |  9708440 | -1.08209989 | 0.034594045 | 0.18123094 | 4-9708290-9708440    |\n",
       "|  5 | chr12 |  9741861 |  9742058 | -0.74342827 | 0.043150224 | 0.18123094 | 5-9741861-9742058    |\n",
       "|  6 | chr12 |  9951138 |  9951553 |  0.85227567 | 0.135138149 | 0.47298352 | 6-9951138-9951553    |\n",
       "|  7 | chr12 |  9455710 |  9455792 |  0.74791141 | 0.178818753 | 0.51390732 | 7-9455710-9455792    |\n",
       "|  8 | chr12 |  9798095 |  9798254 | -0.61107678 | 0.195774216 | 0.51390732 | 8-9798095-9798254    |\n",
       "|  9 | chr12 |  9674157 |  9674343 |  0.49954120 | 0.220499024 | 0.51449772 | 9-9674157-9674343    |\n",
       "| 10 | chr12 | 10190902 | 10191070 |  0.38254338 | 0.284378352 | 0.59719454 | 10-10190902-10191070 |\n",
       "| 11 | chr12 |  9760865 |  9761074 | -0.25740984 | 0.370070411 | 0.70649806 | 11-9760865-9761074   |\n",
       "| 12 | chr12 |  9702365 |  9702501 |  0.24122425 | 0.522957027 | 0.91517480 | 12-9702365-9702501   |\n",
       "| 13 | chr12 |  9283586 |  9284494 |  0.32815179 | 1.000000000 | 1.00000000 | 13-9283586-9284494   |\n",
       "| 14 | chr12 |  9447803 |  9448389 | -0.19356080 | 0.887511945 | 1.00000000 | 14-9447803-9448389   |\n",
       "| 15 | chr12 |  9469515 |  9469589 | -0.14422223 | 0.801046520 | 1.00000000 | 15-9469515-9469589   |\n",
       "| 16 | chr12 |  9647968 |  9648340 |  0.01677811 | 0.945633045 | 1.00000000 | 16-9647968-9648340   |\n",
       "| 17 | chr12 |  9650762 |  9651038 |  0.08643596 | 0.762979049 | 1.00000000 | 17-9650762-9651038   |\n",
       "| 18 | chr12 |  9758774 |  9759073 |  0.36143744 | 0.819012335 | 1.00000000 | 18-9758774-9759073   |\n",
       "| 19 | chr12 |  9814144 |  9814644 | -0.09236852 | 1.000000000 | 1.00000000 | 19-9814144-9814644   |\n",
       "| 20 | chr12 |  9906867 |  9907189 | -0.12982761 | 0.649630750 | 1.00000000 | 20-9906867-9907189   |\n",
       "| 21 | chr12 | 10212331 | 10213645 | -0.26705931 | 1.000000000 | 1.00000000 | 21-10212331-10213645 |\n",
       "\n"
      ],
      "text/plain": [
       "   V1 V1    V2       V3       V4          V5          FDR       \n",
       "1   1 chr12  9764776  9765449 -0.64668748 0.001648112 0.03461034\n",
       "2   2 chr12  9751938  9752109 -1.15165853 0.005775780 0.06064569\n",
       "3   3 chr12  9435991  9436078  1.22281002 0.031728652 0.18123094\n",
       "4   4 chr12  9708290  9708440 -1.08209989 0.034594045 0.18123094\n",
       "5   5 chr12  9741861  9742058 -0.74342827 0.043150224 0.18123094\n",
       "6   6 chr12  9951138  9951553  0.85227567 0.135138149 0.47298352\n",
       "7   7 chr12  9455710  9455792  0.74791141 0.178818753 0.51390732\n",
       "8   8 chr12  9798095  9798254 -0.61107678 0.195774216 0.51390732\n",
       "9   9 chr12  9674157  9674343  0.49954120 0.220499024 0.51449772\n",
       "10 10 chr12 10190902 10191070  0.38254338 0.284378352 0.59719454\n",
       "11 11 chr12  9760865  9761074 -0.25740984 0.370070411 0.70649806\n",
       "12 12 chr12  9702365  9702501  0.24122425 0.522957027 0.91517480\n",
       "13 13 chr12  9283586  9284494  0.32815179 1.000000000 1.00000000\n",
       "14 14 chr12  9447803  9448389 -0.19356080 0.887511945 1.00000000\n",
       "15 15 chr12  9469515  9469589 -0.14422223 0.801046520 1.00000000\n",
       "16 16 chr12  9647968  9648340  0.01677811 0.945633045 1.00000000\n",
       "17 17 chr12  9650762  9651038  0.08643596 0.762979049 1.00000000\n",
       "18 18 chr12  9758774  9759073  0.36143744 0.819012335 1.00000000\n",
       "19 19 chr12  9814144  9814644 -0.09236852 1.000000000 1.00000000\n",
       "20 20 chr12  9906867  9907189 -0.12982761 0.649630750 1.00000000\n",
       "21 21 chr12 10212331 10213645 -0.26705931 1.000000000 1.00000000\n",
       "   name                \n",
       "1  1-9764776-9765449   \n",
       "2  2-9751938-9752109   \n",
       "3  3-9435991-9436078   \n",
       "4  4-9708290-9708440   \n",
       "5  5-9741861-9742058   \n",
       "6  6-9951138-9951553   \n",
       "7  7-9455710-9455792   \n",
       "8  8-9798095-9798254   \n",
       "9  9-9674157-9674343   \n",
       "10 10-10190902-10191070\n",
       "11 11-9760865-9761074  \n",
       "12 12-9702365-9702501  \n",
       "13 13-9283586-9284494  \n",
       "14 14-9447803-9448389  \n",
       "15 15-9469515-9469589  \n",
       "16 16-9647968-9648340  \n",
       "17 17-9650762-9651038  \n",
       "18 18-9758774-9759073  \n",
       "19 19-9814144-9814644  \n",
       "20 20-9906867-9907189  \n",
       "21 21-10212331-10213645"
      ]
     },
     "metadata": {},
     "output_type": "display_data"
    }
   ],
   "source": [
    "windows"
   ]
  },
  {
   "cell_type": "code",
   "execution_count": null,
   "id": "8fe885b2",
   "metadata": {},
   "outputs": [],
   "source": []
  }
 ],
 "metadata": {
  "environment": {
   "name": "r-cpu.4-0.m76",
   "type": "gcloud",
   "uri": "gcr.io/deeplearning-platform-release/r-cpu.4-0:m76"
  },
  "kernelspec": {
   "display_name": "R",
   "language": "R",
   "name": "ir"
  },
  "language_info": {
   "codemirror_mode": "r",
   "file_extension": ".r",
   "mimetype": "text/x-r-source",
   "name": "R",
   "pygments_lexer": "r",
   "version": "4.1.1"
  }
 },
 "nbformat": 4,
 "nbformat_minor": 5
}
